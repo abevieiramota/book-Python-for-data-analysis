{
 "metadata": {
  "name": ""
 },
 "nbformat": 3,
 "nbformat_minor": 0,
 "worksheets": [
  {
   "cells": [
    {
     "cell_type": "heading",
     "level": 3,
     "metadata": {},
     "source": [
      "Creating ndarrays"
     ]
    },
    {
     "cell_type": "code",
     "collapsed": false,
     "input": [
      "import numpy as np"
     ],
     "language": "python",
     "metadata": {},
     "outputs": [],
     "prompt_number": 1
    },
    {
     "cell_type": "code",
     "collapsed": false,
     "input": [
      "data1 = [6, 7.5, 8, 0, 1]\n",
      "arr1 = np.array(data1)\n",
      "arr1"
     ],
     "language": "python",
     "metadata": {},
     "outputs": [
      {
       "metadata": {},
       "output_type": "pyout",
       "prompt_number": 2,
       "text": [
        "array([ 6. ,  7.5,  8. ,  0. ,  1. ])"
       ]
      }
     ],
     "prompt_number": 2
    },
    {
     "cell_type": "code",
     "collapsed": false,
     "input": [
      "#Nested sequences, like a list of equal-length lists, will be converted into a multidimensional array:\n",
      "data2 = [[1,2,3,4], [5,6,7,8]]\n",
      "arr2 = np.array(data2)\n",
      "arr2"
     ],
     "language": "python",
     "metadata": {},
     "outputs": [
      {
       "metadata": {},
       "output_type": "pyout",
       "prompt_number": 3,
       "text": [
        "array([[1, 2, 3, 4],\n",
        "       [5, 6, 7, 8]])"
       ]
      }
     ],
     "prompt_number": 3
    },
    {
     "cell_type": "code",
     "collapsed": false,
     "input": [
      "#Number of dimensions\n",
      "arr2.ndim"
     ],
     "language": "python",
     "metadata": {},
     "outputs": [
      {
       "metadata": {},
       "output_type": "pyout",
       "prompt_number": 4,
       "text": [
        "2"
       ]
      }
     ],
     "prompt_number": 4
    },
    {
     "cell_type": "code",
     "collapsed": false,
     "input": [
      "#Dimensions\n",
      "arr2.shape"
     ],
     "language": "python",
     "metadata": {},
     "outputs": [
      {
       "metadata": {},
       "output_type": "pyout",
       "prompt_number": 5,
       "text": [
        "(2, 4)"
       ]
      }
     ],
     "prompt_number": 5
    },
    {
     "cell_type": "code",
     "collapsed": false,
     "input": [
      "#Elements' type\n",
      "print arr1.dtype, arr2.dtype"
     ],
     "language": "python",
     "metadata": {},
     "outputs": [
      {
       "output_type": "stream",
       "stream": "stdout",
       "text": [
        "float64 int64\n"
       ]
      }
     ],
     "prompt_number": 6
    },
    {
     "cell_type": "heading",
     "level": 4,
     "metadata": {},
     "source": [
      "Array creation functions"
     ]
    },
    {
     "cell_type": "code",
     "collapsed": false,
     "input": [
      "#Array unidimensional, inicializado com zeros, com o shape (1,)\n",
      "np.zeros(10)"
     ],
     "language": "python",
     "metadata": {},
     "outputs": [
      {
       "metadata": {},
       "output_type": "pyout",
       "prompt_number": 7,
       "text": [
        "array([ 0.,  0.,  0.,  0.,  0.,  0.,  0.,  0.,  0.,  0.])"
       ]
      }
     ],
     "prompt_number": 7
    },
    {
     "cell_type": "code",
     "collapsed": false,
     "input": [
      "#Array multidimensional, inicializado com zeros, com o shape (2,4)\n",
      "np.zeros((2,4))"
     ],
     "language": "python",
     "metadata": {},
     "outputs": [
      {
       "metadata": {},
       "output_type": "pyout",
       "prompt_number": 8,
       "text": [
        "array([[ 0.,  0.,  0.,  0.],\n",
        "       [ 0.,  0.,  0.,  0.]])"
       ]
      }
     ],
     "prompt_number": 8
    },
    {
     "cell_type": "code",
     "collapsed": false,
     "input": [
      "# np.zeros_like recebe um ndarray e retorna um ndarray com shape igual ao do passado\n",
      "# notar que a vers\u00e3o _like existe para os m\u00e9todos {ones, zeros, empty}\n",
      "np.zeros_like(arr2)"
     ],
     "language": "python",
     "metadata": {},
     "outputs": [
      {
       "metadata": {},
       "output_type": "pyout",
       "prompt_number": 9,
       "text": [
        "array([[0, 0, 0, 0],\n",
        "       [0, 0, 0, 0]])"
       ]
      }
     ],
     "prompt_number": 9
    },
    {
     "cell_type": "code",
     "collapsed": false,
     "input": [
      "#Array n\u00e3o inicializado, com shape (2,4) - n\u00e3o se deve assumir que ser\u00e1 retornado array com 0's!\n",
      "# o numpy apenas n\u00e3o inicializa o array\n",
      "np.empty((2,4))"
     ],
     "language": "python",
     "metadata": {},
     "outputs": [
      {
       "metadata": {},
       "output_type": "pyout",
       "prompt_number": 10,
       "text": [
        "array([[  6.93331593e-310,   3.08315303e-316,   3.37663830e-316,\n",
        "          2.78186468e-316],\n",
        "       [  3.02566276e-316,   2.82362864e-316,   1.77862802e-316,\n",
        "          0.00000000e+000]])"
       ]
      }
     ],
     "prompt_number": 10
    },
    {
     "cell_type": "code",
     "collapsed": false,
     "input": [
      "#Array unidimensional com os elementos de range(10)\n",
      "np.arange(10)"
     ],
     "language": "python",
     "metadata": {},
     "outputs": [
      {
       "metadata": {},
       "output_type": "pyout",
       "prompt_number": 11,
       "text": [
        "array([0, 1, 2, 3, 4, 5, 6, 7, 8, 9])"
       ]
      }
     ],
     "prompt_number": 11
    },
    {
     "cell_type": "code",
     "collapsed": false,
     "input": [
      "#Array unidimensional com os elementos do range [.0, 10.] com step .1\n",
      "np.arange(0, 10, .1)"
     ],
     "language": "python",
     "metadata": {},
     "outputs": [
      {
       "metadata": {},
       "output_type": "pyout",
       "prompt_number": 12,
       "text": [
        "array([ 0. ,  0.1,  0.2,  0.3,  0.4,  0.5,  0.6,  0.7,  0.8,  0.9,  1. ,\n",
        "        1.1,  1.2,  1.3,  1.4,  1.5,  1.6,  1.7,  1.8,  1.9,  2. ,  2.1,\n",
        "        2.2,  2.3,  2.4,  2.5,  2.6,  2.7,  2.8,  2.9,  3. ,  3.1,  3.2,\n",
        "        3.3,  3.4,  3.5,  3.6,  3.7,  3.8,  3.9,  4. ,  4.1,  4.2,  4.3,\n",
        "        4.4,  4.5,  4.6,  4.7,  4.8,  4.9,  5. ,  5.1,  5.2,  5.3,  5.4,\n",
        "        5.5,  5.6,  5.7,  5.8,  5.9,  6. ,  6.1,  6.2,  6.3,  6.4,  6.5,\n",
        "        6.6,  6.7,  6.8,  6.9,  7. ,  7.1,  7.2,  7.3,  7.4,  7.5,  7.6,\n",
        "        7.7,  7.8,  7.9,  8. ,  8.1,  8.2,  8.3,  8.4,  8.5,  8.6,  8.7,\n",
        "        8.8,  8.9,  9. ,  9.1,  9.2,  9.3,  9.4,  9.5,  9.6,  9.7,  9.8,\n",
        "        9.9])"
       ]
      }
     ],
     "prompt_number": 12
    },
    {
     "cell_type": "code",
     "collapsed": false,
     "input": [
      "# np.asarray n\u00e3o cria c\u00f3pia se j\u00e1 for ndarray\n",
      "# np.array cria c\u00f3pia se j\u00e1 for ndarray\n",
      "arr3 = np.array([1,2])\n",
      "arr4 = np.asarray(arr3)\n",
      "arr5 = np.array(arr3)\n",
      "arr4[0] = 2\n",
      "arr5[0] = 5\n",
      "print \"veja que altera\u00e7\u00e3o em arr4 refletiu em arr3\"\n",
      "print arr3\n",
      "print arr4\n",
      "print \"veja que altera\u00e7\u00e3o em arr5 n\u00e3o refletiu em arr3\"\n",
      "print arr3\n",
      "print arr5"
     ],
     "language": "python",
     "metadata": {},
     "outputs": [
      {
       "output_type": "stream",
       "stream": "stdout",
       "text": [
        "veja que altera\u00e7\u00e3o em arr4 refletiu em arr3\n",
        "[2 2]\n",
        "[2 2]\n",
        "veja que altera\u00e7\u00e3o em arr5 n\u00e3o refletiu em arr3\n",
        "[2 2]\n",
        "[5 2]\n"
       ]
      }
     ],
     "prompt_number": 13
    },
    {
     "cell_type": "code",
     "collapsed": false,
     "input": [
      "#Array multidimensional, inicializado com 1s, com shape (2,4)\n",
      "np.ones((2,4))"
     ],
     "language": "python",
     "metadata": {},
     "outputs": [
      {
       "metadata": {},
       "output_type": "pyout",
       "prompt_number": 14,
       "text": [
        "array([[ 1.,  1.,  1.,  1.],\n",
        "       [ 1.,  1.,  1.,  1.]])"
       ]
      }
     ],
     "prompt_number": 14
    },
    {
     "cell_type": "code",
     "collapsed": false,
     "input": [
      "#Identidade - array 2d de tamanho 10\n",
      "np.eye(4)"
     ],
     "language": "python",
     "metadata": {},
     "outputs": [
      {
       "metadata": {},
       "output_type": "pyout",
       "prompt_number": 15,
       "text": [
        "array([[ 1.,  0.,  0.,  0.],\n",
        "       [ 0.,  1.,  0.,  0.],\n",
        "       [ 0.,  0.,  1.,  0.],\n",
        "       [ 0.,  0.,  0.,  1.]])"
       ]
      }
     ],
     "prompt_number": 15
    },
    {
     "cell_type": "heading",
     "level": 3,
     "metadata": {},
     "source": [
      "Data Types for ndarrays"
     ]
    },
    {
     "cell_type": "markdown",
     "metadata": {},
     "source": [
      "The numerical dtypes are named the same way: a type name, like float or int, followed by a number indicating the number of bits per element."
     ]
    },
    {
     "cell_type": "code",
     "collapsed": false,
     "input": [
      "#cast\n",
      "arr = np.array([1,2,3,4,5])\n",
      "arr.dtype"
     ],
     "language": "python",
     "metadata": {},
     "outputs": [
      {
       "metadata": {},
       "output_type": "pyout",
       "prompt_number": 16,
       "text": [
        "dtype('int64')"
       ]
      }
     ],
     "prompt_number": 16
    },
    {
     "cell_type": "code",
     "collapsed": false,
     "input": [
      "float_arr = arr.astype(np.float64)"
     ],
     "language": "python",
     "metadata": {},
     "outputs": [],
     "prompt_number": 17
    },
    {
     "cell_type": "code",
     "collapsed": false,
     "input": [
      "float_arr.dtype"
     ],
     "language": "python",
     "metadata": {},
     "outputs": [
      {
       "metadata": {},
       "output_type": "pyout",
       "prompt_number": 18,
       "text": [
        "dtype('float64')"
       ]
      }
     ],
     "prompt_number": 18
    },
    {
     "cell_type": "code",
     "collapsed": false,
     "input": [
      "#na convers\u00e3o de float->int, a parte decimal \u00e9 truncada\n",
      "arr = np.array([1.2, -3.4])\n",
      "arr"
     ],
     "language": "python",
     "metadata": {},
     "outputs": [
      {
       "metadata": {},
       "output_type": "pyout",
       "prompt_number": 19,
       "text": [
        "array([ 1.2, -3.4])"
       ]
      }
     ],
     "prompt_number": 19
    },
    {
     "cell_type": "code",
     "collapsed": false,
     "input": [
      "arr.astype(np.int32)"
     ],
     "language": "python",
     "metadata": {},
     "outputs": [
      {
       "metadata": {},
       "output_type": "pyout",
       "prompt_number": 20,
       "text": [
        "array([ 1, -3], dtype=int32)"
       ]
      }
     ],
     "prompt_number": 20
    },
    {
     "cell_type": "code",
     "collapsed": false,
     "input": [
      "#! pode-se converter um array de strings para num\u00e9rico! - bom para leitura de arquivos ascii\n",
      "# observar que o dtype informado no np.array \u00e9 o original\n",
      "numeric_string = np.array(['1.25', '-9.6', '42'], dtype=np.string_)"
     ],
     "language": "python",
     "metadata": {},
     "outputs": [],
     "prompt_number": 21
    },
    {
     "cell_type": "code",
     "collapsed": false,
     "input": [
      "numeric_string.astype(np.float)"
     ],
     "language": "python",
     "metadata": {},
     "outputs": [
      {
       "metadata": {},
       "output_type": "pyout",
       "prompt_number": 22,
       "text": [
        "array([  1.25,  -9.6 ,  42.  ])"
       ]
      }
     ],
     "prompt_number": 22
    },
    {
     "cell_type": "heading",
     "level": 3,
     "metadata": {},
     "source": [
      "Operations between Arrays and Scalars"
     ]
    },
    {
     "cell_type": "raw",
     "metadata": {},
     "source": [
      "Opera\u00e7\u00f5es aritm\u00e9ticas entre array e escalar s\u00e3o elementwise"
     ]
    },
    {
     "cell_type": "code",
     "collapsed": false,
     "input": [
      "a = np.array([1,2,3,4])"
     ],
     "language": "python",
     "metadata": {},
     "outputs": [],
     "prompt_number": 23
    },
    {
     "cell_type": "code",
     "collapsed": false,
     "input": [
      "a*2"
     ],
     "language": "python",
     "metadata": {},
     "outputs": [
      {
       "metadata": {},
       "output_type": "pyout",
       "prompt_number": 24,
       "text": [
        "array([2, 4, 6, 8])"
       ]
      }
     ],
     "prompt_number": 24
    },
    {
     "cell_type": "code",
     "collapsed": false,
     "input": [
      "a+2"
     ],
     "language": "python",
     "metadata": {},
     "outputs": [
      {
       "metadata": {},
       "output_type": "pyout",
       "prompt_number": 25,
       "text": [
        "array([3, 4, 5, 6])"
       ]
      }
     ],
     "prompt_number": 25
    },
    {
     "cell_type": "code",
     "collapsed": false,
     "input": [
      "a**2"
     ],
     "language": "python",
     "metadata": {},
     "outputs": [
      {
       "metadata": {},
       "output_type": "pyout",
       "prompt_number": 26,
       "text": [
        "array([ 1,  4,  9, 16])"
       ]
      }
     ],
     "prompt_number": 26
    },
    {
     "cell_type": "code",
     "collapsed": false,
     "input": [
      "a/2."
     ],
     "language": "python",
     "metadata": {},
     "outputs": [
      {
       "metadata": {},
       "output_type": "pyout",
       "prompt_number": 28,
       "text": [
        "array([ 0.5,  1. ,  1.5,  2. ])"
       ]
      }
     ],
     "prompt_number": 28
    },
    {
     "cell_type": "code",
     "collapsed": false,
     "input": [
      "a-2"
     ],
     "language": "python",
     "metadata": {},
     "outputs": [
      {
       "metadata": {},
       "output_type": "pyout",
       "prompt_number": 29,
       "text": [
        "array([-1,  0,  1,  2])"
       ]
      }
     ],
     "prompt_number": 29
    },
    {
     "cell_type": "heading",
     "level": 3,
     "metadata": {},
     "source": [
      "Basic indexing and slicing"
     ]
    },
    {
     "cell_type": "code",
     "collapsed": false,
     "input": [
      "a = np.arange(100).reshape((10,10))"
     ],
     "language": "python",
     "metadata": {},
     "outputs": [],
     "prompt_number": 34
    },
    {
     "cell_type": "code",
     "collapsed": false,
     "input": [
      "print a"
     ],
     "language": "python",
     "metadata": {},
     "outputs": [
      {
       "output_type": "stream",
       "stream": "stdout",
       "text": [
        "[[ 0  1  2  3  4  5  6  7  8  9]\n",
        " [10 11 12 13 14 15 16 17 18 19]\n",
        " [20 21 22 23 24 25 26 27 28 29]\n",
        " [30 31 32 33 34 35 36 37 38 39]\n",
        " [40 41 42 43 44 45 46 47 48 49]\n",
        " [50 51 52 53 54 55 56 57 58 59]\n",
        " [60 61 62 63 64 65 66 67 68 69]\n",
        " [70 71 72 73 74 75 76 77 78 79]\n",
        " [80 81 82 83 84 85 86 87 88 89]\n",
        " [90 91 92 93 94 95 96 97 98 99]]\n"
       ]
      }
     ],
     "prompt_number": 35
    },
    {
     "cell_type": "code",
     "collapsed": false,
     "input": [
      "a[:,0] # todos da primeira dimens\u00e3o :, apenas o 0 da segunda dimens\u00e3o"
     ],
     "language": "python",
     "metadata": {},
     "outputs": [
      {
       "metadata": {},
       "output_type": "pyout",
       "prompt_number": 39,
       "text": [
        "array([ 0, 10, 20, 30, 40, 50, 60, 70, 80, 90])"
       ]
      }
     ],
     "prompt_number": 39
    },
    {
     "cell_type": "code",
     "collapsed": false,
     "input": [
      "a[0,:] # o 0 da primeira dimens\u00e3o e todos da segunda dimens\u00e3o"
     ],
     "language": "python",
     "metadata": {},
     "outputs": [
      {
       "metadata": {},
       "output_type": "pyout",
       "prompt_number": 41,
       "text": [
        "array([0, 1, 2, 3, 4, 5, 6, 7, 8, 9])"
       ]
      }
     ],
     "prompt_number": 41
    },
    {
     "cell_type": "raw",
     "metadata": {},
     "source": [
      "Opera\u00e7\u00f5es em slice s\u00e3o aplicadas no array"
     ]
    },
    {
     "cell_type": "code",
     "collapsed": false,
     "input": [
      "a[0, :] = np.zeros_like(a[0, :])"
     ],
     "language": "python",
     "metadata": {},
     "outputs": [],
     "prompt_number": 42
    },
    {
     "cell_type": "code",
     "collapsed": false,
     "input": [
      "a"
     ],
     "language": "python",
     "metadata": {},
     "outputs": [
      {
       "metadata": {},
       "output_type": "pyout",
       "prompt_number": 43,
       "text": [
        "array([[ 0,  0,  0,  0,  0,  0,  0,  0,  0,  0],\n",
        "       [10, 11, 12, 13, 14, 15, 16, 17, 18, 19],\n",
        "       [20, 21, 22, 23, 24, 25, 26, 27, 28, 29],\n",
        "       [30, 31, 32, 33, 34, 35, 36, 37, 38, 39],\n",
        "       [40, 41, 42, 43, 44, 45, 46, 47, 48, 49],\n",
        "       [50, 51, 52, 53, 54, 55, 56, 57, 58, 59],\n",
        "       [60, 61, 62, 63, 64, 65, 66, 67, 68, 69],\n",
        "       [70, 71, 72, 73, 74, 75, 76, 77, 78, 79],\n",
        "       [80, 81, 82, 83, 84, 85, 86, 87, 88, 89],\n",
        "       [90, 91, 92, 93, 94, 95, 96, 97, 98, 99]])"
       ]
      }
     ],
     "prompt_number": 43
    },
    {
     "cell_type": "code",
     "collapsed": false,
     "input": [
      "a[0][:] # outra nota\u00e7\u00e3o, equivalente a a[0,:]"
     ],
     "language": "python",
     "metadata": {},
     "outputs": [
      {
       "metadata": {},
       "output_type": "pyout",
       "prompt_number": 45,
       "text": [
        "array([0, 0, 0, 0, 0, 0, 0, 0, 0, 0])"
       ]
      }
     ],
     "prompt_number": 45
    },
    {
     "cell_type": "code",
     "collapsed": false,
     "input": [
      "a[:, :2] # todas as linhas, at\u00e9 a coluna 1"
     ],
     "language": "python",
     "metadata": {},
     "outputs": [
      {
       "metadata": {},
       "output_type": "pyout",
       "prompt_number": 47,
       "text": [
        "array([[ 0,  0],\n",
        "       [10, 11],\n",
        "       [20, 21],\n",
        "       [30, 31],\n",
        "       [40, 41],\n",
        "       [50, 51],\n",
        "       [60, 61],\n",
        "       [70, 71],\n",
        "       [80, 81],\n",
        "       [90, 91]])"
       ]
      }
     ],
     "prompt_number": 47
    },
    {
     "cell_type": "code",
     "collapsed": false,
     "input": [
      "a[:-1, :-1] # todas linhas menos a \u00faltima, todas colunas menos a \u00faltima"
     ],
     "language": "python",
     "metadata": {},
     "outputs": [
      {
       "metadata": {},
       "output_type": "pyout",
       "prompt_number": 49,
       "text": [
        "array([[ 0,  0,  0,  0,  0,  0,  0,  0,  0],\n",
        "       [10, 11, 12, 13, 14, 15, 16, 17, 18],\n",
        "       [20, 21, 22, 23, 24, 25, 26, 27, 28],\n",
        "       [30, 31, 32, 33, 34, 35, 36, 37, 38],\n",
        "       [40, 41, 42, 43, 44, 45, 46, 47, 48],\n",
        "       [50, 51, 52, 53, 54, 55, 56, 57, 58],\n",
        "       [60, 61, 62, 63, 64, 65, 66, 67, 68],\n",
        "       [70, 71, 72, 73, 74, 75, 76, 77, 78],\n",
        "       [80, 81, 82, 83, 84, 85, 86, 87, 88]])"
       ]
      }
     ],
     "prompt_number": 49
    },
    {
     "cell_type": "code",
     "collapsed": false,
     "input": [
      "a[1:-2, 1:-2] # linhas de 1 a pen\u00faltima, colunas de 1 a pen\u00faltima"
     ],
     "language": "python",
     "metadata": {},
     "outputs": [
      {
       "metadata": {},
       "output_type": "pyout",
       "prompt_number": 51,
       "text": [
        "array([[11, 12, 13, 14, 15, 16, 17],\n",
        "       [21, 22, 23, 24, 25, 26, 27],\n",
        "       [31, 32, 33, 34, 35, 36, 37],\n",
        "       [41, 42, 43, 44, 45, 46, 47],\n",
        "       [51, 52, 53, 54, 55, 56, 57],\n",
        "       [61, 62, 63, 64, 65, 66, 67],\n",
        "       [71, 72, 73, 74, 75, 76, 77]])"
       ]
      }
     ],
     "prompt_number": 51
    },
    {
     "cell_type": "raw",
     "metadata": {},
     "source": [
      "Boolean indexing"
     ]
    },
    {
     "cell_type": "code",
     "collapsed": false,
     "input": [
      "a[(a % 2 == 0) | (a % 3 == 0)] = 2 # atribui apenas aos m\u00faltiplos de 2 ou de 3"
     ],
     "language": "python",
     "metadata": {},
     "outputs": [],
     "prompt_number": 59
    },
    {
     "cell_type": "code",
     "collapsed": false,
     "input": [
      "a"
     ],
     "language": "python",
     "metadata": {},
     "outputs": [
      {
       "metadata": {},
       "output_type": "pyout",
       "prompt_number": 60,
       "text": [
        "array([[ 2,  2,  2,  2,  2,  2,  2,  2,  2,  2],\n",
        "       [ 2, 11,  2, 13,  2,  2,  2, 17,  2, 19],\n",
        "       [ 2,  2,  2, 23,  2, 25,  2,  2,  2, 29],\n",
        "       [ 2, 31,  2,  2,  2, 35,  2, 37,  2,  2],\n",
        "       [ 2, 41,  2, 43,  2,  2,  2, 47,  2, 49],\n",
        "       [ 2,  2,  2, 53,  2, 55,  2,  2,  2, 59],\n",
        "       [ 2, 61,  2,  2,  2, 65,  2, 67,  2,  2],\n",
        "       [ 2, 71,  2, 73,  2,  2,  2, 77,  2, 79],\n",
        "       [ 2,  2,  2, 83,  2, 85,  2,  2,  2, 89],\n",
        "       [ 2, 91,  2,  2,  2, 95,  2, 97,  2,  2]])"
       ]
      }
     ],
     "prompt_number": 60
    },
    {
     "cell_type": "raw",
     "metadata": {},
     "source": [
      "Fancy indexing"
     ]
    },
    {
     "cell_type": "code",
     "collapsed": false,
     "input": [
      "a[[1,2],[3,4]] # retorna os pares (1,3) e (2,4)"
     ],
     "language": "python",
     "metadata": {},
     "outputs": [
      {
       "metadata": {},
       "output_type": "pyout",
       "prompt_number": 63,
       "text": [
        "array([13,  2])"
       ]
      }
     ],
     "prompt_number": 63
    },
    {
     "cell_type": "code",
     "collapsed": false,
     "input": [
      "print a[1,3], a[3,4]"
     ],
     "language": "python",
     "metadata": {},
     "outputs": [
      {
       "output_type": "stream",
       "stream": "stdout",
       "text": [
        "13 2\n"
       ]
      }
     ],
     "prompt_number": 64
    },
    {
     "cell_type": "raw",
     "metadata": {},
     "source": [
      "Perceba que o comportamento \u00e9 estranho do intuitivo. Intuitivamente, pensamos que tal c\u00f3digo retornaria as linhas 1 e 2 restritas \u00e0s colunas 3 e 4. Para fazer isso, existe o m\u00e9todo ix_ do numpy"
     ]
    },
    {
     "cell_type": "code",
     "collapsed": false,
     "input": [
      "a[np.ix_([1,2],[3,4])]"
     ],
     "language": "python",
     "metadata": {},
     "outputs": [
      {
       "metadata": {},
       "output_type": "pyout",
       "prompt_number": 66,
       "text": [
        "array([[13,  2],\n",
        "       [23,  2]])"
       ]
      }
     ],
     "prompt_number": 66
    },
    {
     "cell_type": "heading",
     "level": 3,
     "metadata": {},
     "source": [
      "Conditional logic with arrays"
     ]
    },
    {
     "cell_type": "code",
     "collapsed": false,
     "input": [
      "a = np.arange(100).reshape((10,10))"
     ],
     "language": "python",
     "metadata": {},
     "outputs": [],
     "prompt_number": 70
    },
    {
     "cell_type": "code",
     "collapsed": false,
     "input": [
      "np.where((a % 2 == 0) | (a % 3 == 0), 'm23', 'nm23')"
     ],
     "language": "python",
     "metadata": {},
     "outputs": [
      {
       "metadata": {},
       "output_type": "pyout",
       "prompt_number": 73,
       "text": [
        "array([['m23', 'nm23', 'm23', 'm23', 'm23', 'nm23', 'm23', 'nm23', 'm23',\n",
        "        'm23'],\n",
        "       ['m23', 'nm23', 'm23', 'nm23', 'm23', 'm23', 'm23', 'nm23', 'm23',\n",
        "        'nm23'],\n",
        "       ['m23', 'm23', 'm23', 'nm23', 'm23', 'nm23', 'm23', 'm23', 'm23',\n",
        "        'nm23'],\n",
        "       ['m23', 'nm23', 'm23', 'm23', 'm23', 'nm23', 'm23', 'nm23', 'm23',\n",
        "        'm23'],\n",
        "       ['m23', 'nm23', 'm23', 'nm23', 'm23', 'm23', 'm23', 'nm23', 'm23',\n",
        "        'nm23'],\n",
        "       ['m23', 'm23', 'm23', 'nm23', 'm23', 'nm23', 'm23', 'm23', 'm23',\n",
        "        'nm23'],\n",
        "       ['m23', 'nm23', 'm23', 'm23', 'm23', 'nm23', 'm23', 'nm23', 'm23',\n",
        "        'm23'],\n",
        "       ['m23', 'nm23', 'm23', 'nm23', 'm23', 'm23', 'm23', 'nm23', 'm23',\n",
        "        'nm23'],\n",
        "       ['m23', 'm23', 'm23', 'nm23', 'm23', 'nm23', 'm23', 'm23', 'm23',\n",
        "        'nm23'],\n",
        "       ['m23', 'nm23', 'm23', 'm23', 'm23', 'nm23', 'm23', 'nm23', 'm23',\n",
        "        'm23']], \n",
        "      dtype='|S4')"
       ]
      }
     ],
     "prompt_number": 73
    },
    {
     "cell_type": "raw",
     "metadata": {},
     "source": [
      "Posso usar um array para retornar seu valor, caso a condi\u00e7\u00e3o seja ou n\u00e3o satisfeita. No pr\u00f3ximo exemplo, coloco um 0 nos m\u00faltiplos de 2 ou de 3 e mantenho o valor nos demais"
     ]
    },
    {
     "cell_type": "code",
     "collapsed": false,
     "input": [
      "np.where((a % 2 == 0) | (a % 3 == 0), 0, a)"
     ],
     "language": "python",
     "metadata": {},
     "outputs": [
      {
       "metadata": {},
       "output_type": "pyout",
       "prompt_number": 74,
       "text": [
        "array([[ 0,  1,  0,  0,  0,  5,  0,  7,  0,  0],\n",
        "       [ 0, 11,  0, 13,  0,  0,  0, 17,  0, 19],\n",
        "       [ 0,  0,  0, 23,  0, 25,  0,  0,  0, 29],\n",
        "       [ 0, 31,  0,  0,  0, 35,  0, 37,  0,  0],\n",
        "       [ 0, 41,  0, 43,  0,  0,  0, 47,  0, 49],\n",
        "       [ 0,  0,  0, 53,  0, 55,  0,  0,  0, 59],\n",
        "       [ 0, 61,  0,  0,  0, 65,  0, 67,  0,  0],\n",
        "       [ 0, 71,  0, 73,  0,  0,  0, 77,  0, 79],\n",
        "       [ 0,  0,  0, 83,  0, 85,  0,  0,  0, 89],\n",
        "       [ 0, 91,  0,  0,  0, 95,  0, 97,  0,  0]])"
       ]
      }
     ],
     "prompt_number": 74
    },
    {
     "cell_type": "heading",
     "level": 3,
     "metadata": {},
     "source": [
      "Mathematical and statistical methods"
     ]
    },
    {
     "cell_type": "code",
     "collapsed": false,
     "input": [
      "a = np.arange(100).reshape((10,10))"
     ],
     "language": "python",
     "metadata": {},
     "outputs": [],
     "prompt_number": 83
    },
    {
     "cell_type": "code",
     "collapsed": false,
     "input": [
      "a.std()"
     ],
     "language": "python",
     "metadata": {},
     "outputs": [
      {
       "metadata": {},
       "output_type": "pyout",
       "prompt_number": 84,
       "text": [
        "28.866070047722118"
       ]
      }
     ],
     "prompt_number": 84
    },
    {
     "cell_type": "code",
     "collapsed": false,
     "input": [
      "a.var()"
     ],
     "language": "python",
     "metadata": {},
     "outputs": [
      {
       "metadata": {},
       "output_type": "pyout",
       "prompt_number": 85,
       "text": [
        "833.25"
       ]
      }
     ],
     "prompt_number": 85
    },
    {
     "cell_type": "code",
     "collapsed": false,
     "input": [
      "a.argmin()"
     ],
     "language": "python",
     "metadata": {},
     "outputs": [
      {
       "metadata": {},
       "output_type": "pyout",
       "prompt_number": 86,
       "text": [
        "0"
       ]
      }
     ],
     "prompt_number": 86
    },
    {
     "cell_type": "code",
     "collapsed": false,
     "input": [
      "a.argmax()"
     ],
     "language": "python",
     "metadata": {},
     "outputs": [
      {
       "metadata": {},
       "output_type": "pyout",
       "prompt_number": 87,
       "text": [
        "99"
       ]
      }
     ],
     "prompt_number": 87
    },
    {
     "cell_type": "code",
     "collapsed": false,
     "input": [
      "a.mean()"
     ],
     "language": "python",
     "metadata": {},
     "outputs": [
      {
       "metadata": {},
       "output_type": "pyout",
       "prompt_number": 91,
       "text": [
        "49.5"
       ]
      }
     ],
     "prompt_number": 91
    },
    {
     "cell_type": "code",
     "collapsed": false,
     "input": [
      "a.cumsum()"
     ],
     "language": "python",
     "metadata": {},
     "outputs": [
      {
       "metadata": {},
       "output_type": "pyout",
       "prompt_number": 92,
       "text": [
        "array([   0,    1,    3,    6,   10,   15,   21,   28,   36,   45,   55,\n",
        "         66,   78,   91,  105,  120,  136,  153,  171,  190,  210,  231,\n",
        "        253,  276,  300,  325,  351,  378,  406,  435,  465,  496,  528,\n",
        "        561,  595,  630,  666,  703,  741,  780,  820,  861,  903,  946,\n",
        "        990, 1035, 1081, 1128, 1176, 1225, 1275, 1326, 1378, 1431, 1485,\n",
        "       1540, 1596, 1653, 1711, 1770, 1830, 1891, 1953, 2016, 2080, 2145,\n",
        "       2211, 2278, 2346, 2415, 2485, 2556, 2628, 2701, 2775, 2850, 2926,\n",
        "       3003, 3081, 3160, 3240, 3321, 3403, 3486, 3570, 3655, 3741, 3828,\n",
        "       3916, 4005, 4095, 4186, 4278, 4371, 4465, 4560, 4656, 4753, 4851,\n",
        "       4950])"
       ]
      }
     ],
     "prompt_number": 92
    },
    {
     "cell_type": "heading",
     "level": 3,
     "metadata": {},
     "source": [
      "Methods for boolean arrays"
     ]
    },
    {
     "cell_type": "code",
     "collapsed": false,
     "input": [
      "a = np.arange(100).reshape((10,10))"
     ],
     "language": "python",
     "metadata": {},
     "outputs": [],
     "prompt_number": 93
    },
    {
     "cell_type": "code",
     "collapsed": false,
     "input": [
      "(a % 2 == 0).sum() # quantidade de m\u00faltiplos de 2"
     ],
     "language": "python",
     "metadata": {},
     "outputs": [
      {
       "metadata": {},
       "output_type": "pyout",
       "prompt_number": 95,
       "text": [
        "50"
       ]
      }
     ],
     "prompt_number": 95
    },
    {
     "cell_type": "code",
     "collapsed": false,
     "input": [
      "(a >= 0).all() # true se for all"
     ],
     "language": "python",
     "metadata": {},
     "outputs": [
      {
       "metadata": {},
       "output_type": "pyout",
       "prompt_number": 97,
       "text": [
        "True"
       ]
      }
     ],
     "prompt_number": 97
    },
    {
     "cell_type": "code",
     "collapsed": false,
     "input": [
      "(a == 99).any() # true se for any"
     ],
     "language": "python",
     "metadata": {},
     "outputs": [
      {
       "metadata": {},
       "output_type": "pyout",
       "prompt_number": 98,
       "text": [
        "True"
       ]
      }
     ],
     "prompt_number": 98
    },
    {
     "cell_type": "heading",
     "level": 3,
     "metadata": {},
     "source": [
      "Sorting"
     ]
    },
    {
     "cell_type": "code",
     "collapsed": false,
     "input": [
      "a = np.random.randn(25).reshape((5,5))"
     ],
     "language": "python",
     "metadata": {},
     "outputs": [],
     "prompt_number": 101
    },
    {
     "cell_type": "code",
     "collapsed": false,
     "input": [
      "a"
     ],
     "language": "python",
     "metadata": {},
     "outputs": [
      {
       "metadata": {},
       "output_type": "pyout",
       "prompt_number": 102,
       "text": [
        "array([[ 0.38231412,  0.36261052, -0.61686156,  0.99538301,  0.17774675],\n",
        "       [ 1.22879816, -0.51935771, -1.75475574,  0.50610573,  1.25141682],\n",
        "       [-0.15524777, -0.54824264, -0.2507962 ,  0.95105431,  0.13205725],\n",
        "       [-0.64868176,  0.36634644, -2.05445145, -1.04405022, -0.07535924],\n",
        "       [ 0.97880789, -0.5096601 ,  0.75114478, -0.21130926, -0.42460861]])"
       ]
      }
     ],
     "prompt_number": 102
    },
    {
     "cell_type": "code",
     "collapsed": false,
     "input": [
      "a.sort() # sort in place"
     ],
     "language": "python",
     "metadata": {},
     "outputs": [],
     "prompt_number": 105
    },
    {
     "cell_type": "code",
     "collapsed": false,
     "input": [
      "a"
     ],
     "language": "python",
     "metadata": {},
     "outputs": [
      {
       "metadata": {},
       "output_type": "pyout",
       "prompt_number": 106,
       "text": [
        "array([[-0.61686156,  0.17774675,  0.36261052,  0.38231412,  0.99538301],\n",
        "       [-1.75475574, -0.51935771,  0.50610573,  1.22879816,  1.25141682],\n",
        "       [-0.54824264, -0.2507962 , -0.15524777,  0.13205725,  0.95105431],\n",
        "       [-2.05445145, -1.04405022, -0.64868176, -0.07535924,  0.36634644],\n",
        "       [-0.5096601 , -0.42460861, -0.21130926,  0.75114478,  0.97880789]])"
       ]
      }
     ],
     "prompt_number": 106
    },
    {
     "cell_type": "code",
     "collapsed": false,
     "input": [
      "a = np.random.randn(25).reshape((5,5))"
     ],
     "language": "python",
     "metadata": {},
     "outputs": [],
     "prompt_number": 107
    },
    {
     "cell_type": "code",
     "collapsed": false,
     "input": [
      "np.sort(a) # retorna uma c\u00f3pia ordenada"
     ],
     "language": "python",
     "metadata": {},
     "outputs": [
      {
       "metadata": {},
       "output_type": "pyout",
       "prompt_number": 110,
       "text": [
        "array([[-0.70702138,  0.34056698,  0.52153427,  0.69429785,  0.73948972],\n",
        "       [-1.24046131, -0.61512389,  0.3860078 ,  0.55153143,  1.14996817],\n",
        "       [-0.86211014, -0.71951357,  0.39855184,  0.78198163,  1.05296028],\n",
        "       [-2.03892768,  0.38393495,  0.51696558,  0.54959253,  0.55023328],\n",
        "       [ 0.56753063,  0.71427501,  1.05396765,  1.26184711,  2.92733693]])"
       ]
      }
     ],
     "prompt_number": 110
    },
    {
     "cell_type": "code",
     "collapsed": false,
     "input": [
      "a"
     ],
     "language": "python",
     "metadata": {},
     "outputs": [
      {
       "metadata": {},
       "output_type": "pyout",
       "prompt_number": 111,
       "text": [
        "array([[ 0.34056698,  0.69429785,  0.73948972,  0.52153427, -0.70702138],\n",
        "       [ 1.14996817, -0.61512389,  0.55153143, -1.24046131,  0.3860078 ],\n",
        "       [ 1.05296028,  0.78198163, -0.86211014,  0.39855184, -0.71951357],\n",
        "       [ 0.54959253,  0.38393495,  0.51696558,  0.55023328, -2.03892768],\n",
        "       [ 2.92733693,  1.05396765,  0.56753063,  0.71427501,  1.26184711]])"
       ]
      }
     ],
     "prompt_number": 111
    },
    {
     "cell_type": "code",
     "collapsed": false,
     "input": [
      "a.sort(0, kind='heapsort') # o n informa sobre qual axis ordenar. \n",
      "# No caso, ordenar sobre as linhas(notar que \u00e9 diferente de ordenar AS linhas, que seria ordenar sobre as colunas)\n",
      "# o kind pode ser {'quicksort', 'mergesort', 'heapsort'}"
     ],
     "language": "python",
     "metadata": {},
     "outputs": [],
     "prompt_number": 119
    },
    {
     "cell_type": "code",
     "collapsed": false,
     "input": [
      "a"
     ],
     "language": "python",
     "metadata": {},
     "outputs": [
      {
       "metadata": {},
       "output_type": "pyout",
       "prompt_number": 120,
       "text": [
        "array([[-2.03892768, -0.71951357,  0.3860078 ,  0.54959253,  0.55023328],\n",
        "       [-1.24046131, -0.61512389,  0.39855184,  0.55153143,  0.73948972],\n",
        "       [-0.86211014,  0.34056698,  0.51696558,  0.69429785,  1.05296028],\n",
        "       [-0.70702138,  0.38393495,  0.52153427,  0.78198163,  1.14996817],\n",
        "       [ 0.56753063,  0.71427501,  1.05396765,  1.26184711,  2.92733693]])"
       ]
      }
     ],
     "prompt_number": 120
    },
    {
     "cell_type": "heading",
     "level": 3,
     "metadata": {},
     "source": [
      "Set logic"
     ]
    },
    {
     "cell_type": "raw",
     "metadata": {},
     "source": [
      "Lembrar que s\u00e3o opera\u00e7\u00f5es sobre conjuntos, n\u00e3o mant\u00eam elementos repetidos"
     ]
    },
    {
     "cell_type": "code",
     "collapsed": false,
     "input": [
      "a = np.arange(20)\n",
      "b = np.array([2,3,7])\n",
      "# para cada elemento em a, retorna True se ele pertence a b, False, caso contr\u00e1rio\n",
      "np.in1d(a, b)"
     ],
     "language": "python",
     "metadata": {},
     "outputs": [
      {
       "metadata": {},
       "output_type": "pyout",
       "prompt_number": 126,
       "text": [
        "array([False, False,  True,  True, False, False, False,  True, False,\n",
        "       False, False, False, False, False, False, False, False, False,\n",
        "       False, False], dtype=bool)"
       ]
      }
     ],
     "prompt_number": 126
    },
    {
     "cell_type": "code",
     "collapsed": false,
     "input": [
      "np.intersect1d(a,b)"
     ],
     "language": "python",
     "metadata": {},
     "outputs": [
      {
       "metadata": {},
       "output_type": "pyout",
       "prompt_number": 127,
       "text": [
        "array([2, 3, 7])"
       ]
      }
     ],
     "prompt_number": 127
    },
    {
     "cell_type": "code",
     "collapsed": false,
     "input": [
      "np.union1d(a,[-1,40])"
     ],
     "language": "python",
     "metadata": {},
     "outputs": [
      {
       "metadata": {},
       "output_type": "pyout",
       "prompt_number": 129,
       "text": [
        "array([-1,  0,  1,  2,  3,  4,  5,  6,  7,  8,  9, 10, 11, 12, 13, 14, 15,\n",
        "       16, 17, 18, 19, 40])"
       ]
      }
     ],
     "prompt_number": 129
    },
    {
     "cell_type": "code",
     "collapsed": false,
     "input": [
      "np.setdiff1d(a,b)"
     ],
     "language": "python",
     "metadata": {},
     "outputs": [
      {
       "metadata": {},
       "output_type": "pyout",
       "prompt_number": 131,
       "text": [
        "array([ 0,  1,  4,  5,  6,  8,  9, 10, 11, 12, 13, 14, 15, 16, 17, 18, 19])"
       ]
      }
     ],
     "prompt_number": 131
    },
    {
     "cell_type": "code",
     "collapsed": false,
     "input": [
      "np.setxor1d([1,2,3],[2,3,4]) # elementos que est\u00e3o apenas em um dos conjuntos"
     ],
     "language": "python",
     "metadata": {},
     "outputs": [
      {
       "metadata": {},
       "output_type": "pyout",
       "prompt_number": 133,
       "text": [
        "array([1, 4])"
       ]
      }
     ],
     "prompt_number": 133
    },
    {
     "cell_type": "code",
     "collapsed": false,
     "input": [],
     "language": "python",
     "metadata": {},
     "outputs": []
    }
   ],
   "metadata": {}
  }
 ]
}