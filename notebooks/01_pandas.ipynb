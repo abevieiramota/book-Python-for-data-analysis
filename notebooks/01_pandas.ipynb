{
 "metadata": {
  "name": "",
  "signature": "sha256:ec95490dc83e66e0302b36152b1712e45997d43e1522fb9ae78a43985c1f3dbc"
 },
 "nbformat": 3,
 "nbformat_minor": 0,
 "worksheets": [
  {
   "cells": [
    {
     "cell_type": "code",
     "collapsed": false,
     "input": [
      "import pandas as pd\n",
      "import numpy as np"
     ],
     "language": "python",
     "metadata": {},
     "outputs": [],
     "prompt_number": 18
    },
    {
     "cell_type": "code",
     "collapsed": false,
     "input": [
      "df = pd.DataFrame({'a':[1,2,3], 'b':['a', 'b', None], 'c':np.linspace(-3, 0, 3)}, index=['abelardo', 'cris', 'juca'])"
     ],
     "language": "python",
     "metadata": {},
     "outputs": [],
     "prompt_number": 76
    },
    {
     "cell_type": "code",
     "collapsed": false,
     "input": [
      "df"
     ],
     "language": "python",
     "metadata": {},
     "outputs": [
      {
       "html": [
        "<div style=\"max-height:1000px;max-width:1500px;overflow:auto;\">\n",
        "<table border=\"1\" class=\"dataframe\">\n",
        "  <thead>\n",
        "    <tr style=\"text-align: right;\">\n",
        "      <th></th>\n",
        "      <th>a</th>\n",
        "      <th>b</th>\n",
        "      <th>c</th>\n",
        "    </tr>\n",
        "  </thead>\n",
        "  <tbody>\n",
        "    <tr>\n",
        "      <th>abelardo</th>\n",
        "      <td> 1</td>\n",
        "      <td>    a</td>\n",
        "      <td>-3.0</td>\n",
        "    </tr>\n",
        "    <tr>\n",
        "      <th>cris</th>\n",
        "      <td> 2</td>\n",
        "      <td>    b</td>\n",
        "      <td>-1.5</td>\n",
        "    </tr>\n",
        "    <tr>\n",
        "      <th>juca</th>\n",
        "      <td> 3</td>\n",
        "      <td> None</td>\n",
        "      <td> 0.0</td>\n",
        "    </tr>\n",
        "  </tbody>\n",
        "</table>\n",
        "<p>3 rows \u00d7 3 columns</p>\n",
        "</div>"
       ],
       "metadata": {},
       "output_type": "pyout",
       "prompt_number": 54,
       "text": [
        "          a     b    c\n",
        "abelardo  1     a -3.0\n",
        "cris      2     b -1.5\n",
        "juca      3  None  0.0\n",
        "\n",
        "[3 rows x 3 columns]"
       ]
      }
     ],
     "prompt_number": 54
    },
    {
     "cell_type": "code",
     "collapsed": false,
     "input": [
      "df[['a', 'c']].apply(np.sum, axis=1)"
     ],
     "language": "python",
     "metadata": {},
     "outputs": [
      {
       "metadata": {},
       "output_type": "pyout",
       "prompt_number": 55,
       "text": [
        "abelardo   -2.0\n",
        "cris        0.5\n",
        "juca        3.0\n",
        "dtype: float64"
       ]
      }
     ],
     "prompt_number": 55
    },
    {
     "cell_type": "code",
     "collapsed": false,
     "input": [
      "df[['a', 'c']].apply(np.sum, axis=0)"
     ],
     "language": "python",
     "metadata": {},
     "outputs": [
      {
       "metadata": {},
       "output_type": "pyout",
       "prompt_number": 56,
       "text": [
        "a    6.0\n",
        "c   -4.5\n",
        "dtype: float64"
       ]
      }
     ],
     "prompt_number": 56
    },
    {
     "cell_type": "code",
     "collapsed": false,
     "input": [
      "def printa(x):\n",
      "    print x\n",
      "    return x\n",
      "df.applymap(printa)"
     ],
     "language": "python",
     "metadata": {},
     "outputs": [
      {
       "output_type": "stream",
       "stream": "stdout",
       "text": [
        "1\n",
        "2\n",
        "3\n",
        "1\n",
        "2\n",
        "3\n",
        "a\n",
        "b\n",
        "None\n",
        "-3.0\n",
        "-1.5\n",
        "0.0\n"
       ]
      },
      {
       "html": [
        "<div style=\"max-height:1000px;max-width:1500px;overflow:auto;\">\n",
        "<table border=\"1\" class=\"dataframe\">\n",
        "  <thead>\n",
        "    <tr style=\"text-align: right;\">\n",
        "      <th></th>\n",
        "      <th>a</th>\n",
        "      <th>b</th>\n",
        "      <th>c</th>\n",
        "    </tr>\n",
        "  </thead>\n",
        "  <tbody>\n",
        "    <tr>\n",
        "      <th>abelardo</th>\n",
        "      <td> 1</td>\n",
        "      <td>    a</td>\n",
        "      <td>-3.0</td>\n",
        "    </tr>\n",
        "    <tr>\n",
        "      <th>cris</th>\n",
        "      <td> 2</td>\n",
        "      <td>    b</td>\n",
        "      <td>-1.5</td>\n",
        "    </tr>\n",
        "    <tr>\n",
        "      <th>juca</th>\n",
        "      <td> 3</td>\n",
        "      <td> None</td>\n",
        "      <td> 0.0</td>\n",
        "    </tr>\n",
        "  </tbody>\n",
        "</table>\n",
        "<p>3 rows \u00d7 3 columns</p>\n",
        "</div>"
       ],
       "metadata": {},
       "output_type": "pyout",
       "prompt_number": 57,
       "text": [
        "          a     b    c\n",
        "abelardo  1     a -3.0\n",
        "cris      2     b -1.5\n",
        "juca      3  None  0.0\n",
        "\n",
        "[3 rows x 3 columns]"
       ]
      }
     ],
     "prompt_number": 57
    },
    {
     "cell_type": "code",
     "collapsed": false,
     "input": [
      "df[['a', 'c']].idxmin() # index com menor valor"
     ],
     "language": "python",
     "metadata": {},
     "outputs": [
      {
       "metadata": {},
       "output_type": "pyout",
       "prompt_number": 58,
       "text": [
        "a    abelardo\n",
        "c    abelardo\n",
        "dtype: object"
       ]
      }
     ],
     "prompt_number": 58
    },
    {
     "cell_type": "code",
     "collapsed": false,
     "input": [
      "df[['a', 'c']].idxmax()"
     ],
     "language": "python",
     "metadata": {},
     "outputs": [
      {
       "metadata": {},
       "output_type": "pyout",
       "prompt_number": 59,
       "text": [
        "a    juca\n",
        "c    juca\n",
        "dtype: object"
       ]
      }
     ],
     "prompt_number": 59
    },
    {
     "cell_type": "code",
     "collapsed": false,
     "input": [
      "df[['a', 'c']].isin([1, 0])"
     ],
     "language": "python",
     "metadata": {},
     "outputs": [
      {
       "html": [
        "<div style=\"max-height:1000px;max-width:1500px;overflow:auto;\">\n",
        "<table border=\"1\" class=\"dataframe\">\n",
        "  <thead>\n",
        "    <tr style=\"text-align: right;\">\n",
        "      <th></th>\n",
        "      <th>a</th>\n",
        "      <th>c</th>\n",
        "    </tr>\n",
        "  </thead>\n",
        "  <tbody>\n",
        "    <tr>\n",
        "      <th>abelardo</th>\n",
        "      <td>  True</td>\n",
        "      <td> False</td>\n",
        "    </tr>\n",
        "    <tr>\n",
        "      <th>cris</th>\n",
        "      <td> False</td>\n",
        "      <td> False</td>\n",
        "    </tr>\n",
        "    <tr>\n",
        "      <th>juca</th>\n",
        "      <td> False</td>\n",
        "      <td>  True</td>\n",
        "    </tr>\n",
        "  </tbody>\n",
        "</table>\n",
        "<p>3 rows \u00d7 2 columns</p>\n",
        "</div>"
       ],
       "metadata": {},
       "output_type": "pyout",
       "prompt_number": 60,
       "text": [
        "              a      c\n",
        "abelardo   True  False\n",
        "cris      False  False\n",
        "juca      False   True\n",
        "\n",
        "[3 rows x 2 columns]"
       ]
      }
     ],
     "prompt_number": 60
    },
    {
     "cell_type": "code",
     "collapsed": false,
     "input": [
      "df.isnull()"
     ],
     "language": "python",
     "metadata": {},
     "outputs": [
      {
       "html": [
        "<div style=\"max-height:1000px;max-width:1500px;overflow:auto;\">\n",
        "<table border=\"1\" class=\"dataframe\">\n",
        "  <thead>\n",
        "    <tr style=\"text-align: right;\">\n",
        "      <th></th>\n",
        "      <th>a</th>\n",
        "      <th>b</th>\n",
        "      <th>c</th>\n",
        "    </tr>\n",
        "  </thead>\n",
        "  <tbody>\n",
        "    <tr>\n",
        "      <th>abelardo</th>\n",
        "      <td> False</td>\n",
        "      <td> False</td>\n",
        "      <td> False</td>\n",
        "    </tr>\n",
        "    <tr>\n",
        "      <th>cris</th>\n",
        "      <td> False</td>\n",
        "      <td> False</td>\n",
        "      <td> False</td>\n",
        "    </tr>\n",
        "    <tr>\n",
        "      <th>juca</th>\n",
        "      <td> False</td>\n",
        "      <td>  True</td>\n",
        "      <td> False</td>\n",
        "    </tr>\n",
        "  </tbody>\n",
        "</table>\n",
        "<p>3 rows \u00d7 3 columns</p>\n",
        "</div>"
       ],
       "metadata": {},
       "output_type": "pyout",
       "prompt_number": 61,
       "text": [
        "              a      b      c\n",
        "abelardo  False  False  False\n",
        "cris      False  False  False\n",
        "juca      False   True  False\n",
        "\n",
        "[3 rows x 3 columns]"
       ]
      }
     ],
     "prompt_number": 61
    },
    {
     "cell_type": "code",
     "collapsed": false,
     "input": [
      "df.notnull()"
     ],
     "language": "python",
     "metadata": {},
     "outputs": [
      {
       "html": [
        "<div style=\"max-height:1000px;max-width:1500px;overflow:auto;\">\n",
        "<table border=\"1\" class=\"dataframe\">\n",
        "  <thead>\n",
        "    <tr style=\"text-align: right;\">\n",
        "      <th></th>\n",
        "      <th>a</th>\n",
        "      <th>b</th>\n",
        "      <th>c</th>\n",
        "    </tr>\n",
        "  </thead>\n",
        "  <tbody>\n",
        "    <tr>\n",
        "      <th>abelardo</th>\n",
        "      <td> True</td>\n",
        "      <td>  True</td>\n",
        "      <td> True</td>\n",
        "    </tr>\n",
        "    <tr>\n",
        "      <th>cris</th>\n",
        "      <td> True</td>\n",
        "      <td>  True</td>\n",
        "      <td> True</td>\n",
        "    </tr>\n",
        "    <tr>\n",
        "      <th>juca</th>\n",
        "      <td> True</td>\n",
        "      <td> False</td>\n",
        "      <td> True</td>\n",
        "    </tr>\n",
        "  </tbody>\n",
        "</table>\n",
        "<p>3 rows \u00d7 3 columns</p>\n",
        "</div>"
       ],
       "metadata": {},
       "output_type": "pyout",
       "prompt_number": 62,
       "text": [
        "             a      b     c\n",
        "abelardo  True   True  True\n",
        "cris      True   True  True\n",
        "juca      True  False  True\n",
        "\n",
        "[3 rows x 3 columns]"
       ]
      }
     ],
     "prompt_number": 62
    },
    {
     "cell_type": "code",
     "collapsed": false,
     "input": [
      "df.dropna(axis=0)"
     ],
     "language": "python",
     "metadata": {},
     "outputs": [
      {
       "html": [
        "<div style=\"max-height:1000px;max-width:1500px;overflow:auto;\">\n",
        "<table border=\"1\" class=\"dataframe\">\n",
        "  <thead>\n",
        "    <tr style=\"text-align: right;\">\n",
        "      <th></th>\n",
        "      <th>a</th>\n",
        "      <th>b</th>\n",
        "      <th>c</th>\n",
        "    </tr>\n",
        "  </thead>\n",
        "  <tbody>\n",
        "    <tr>\n",
        "      <th>abelardo</th>\n",
        "      <td> 1</td>\n",
        "      <td> a</td>\n",
        "      <td>-3.0</td>\n",
        "    </tr>\n",
        "    <tr>\n",
        "      <th>cris</th>\n",
        "      <td> 2</td>\n",
        "      <td> b</td>\n",
        "      <td>-1.5</td>\n",
        "    </tr>\n",
        "  </tbody>\n",
        "</table>\n",
        "<p>2 rows \u00d7 3 columns</p>\n",
        "</div>"
       ],
       "metadata": {},
       "output_type": "pyout",
       "prompt_number": 65,
       "text": [
        "          a  b    c\n",
        "abelardo  1  a -3.0\n",
        "cris      2  b -1.5\n",
        "\n",
        "[2 rows x 3 columns]"
       ]
      }
     ],
     "prompt_number": 65
    },
    {
     "cell_type": "code",
     "collapsed": false,
     "input": [
      "df.dropna(axis=1)"
     ],
     "language": "python",
     "metadata": {},
     "outputs": [
      {
       "html": [
        "<div style=\"max-height:1000px;max-width:1500px;overflow:auto;\">\n",
        "<table border=\"1\" class=\"dataframe\">\n",
        "  <thead>\n",
        "    <tr style=\"text-align: right;\">\n",
        "      <th></th>\n",
        "      <th>a</th>\n",
        "      <th>c</th>\n",
        "    </tr>\n",
        "  </thead>\n",
        "  <tbody>\n",
        "    <tr>\n",
        "      <th>abelardo</th>\n",
        "      <td> 1</td>\n",
        "      <td>-3.0</td>\n",
        "    </tr>\n",
        "    <tr>\n",
        "      <th>cris</th>\n",
        "      <td> 2</td>\n",
        "      <td>-1.5</td>\n",
        "    </tr>\n",
        "    <tr>\n",
        "      <th>juca</th>\n",
        "      <td> 3</td>\n",
        "      <td> 0.0</td>\n",
        "    </tr>\n",
        "  </tbody>\n",
        "</table>\n",
        "<p>3 rows \u00d7 2 columns</p>\n",
        "</div>"
       ],
       "metadata": {},
       "output_type": "pyout",
       "prompt_number": 66,
       "text": [
        "          a    c\n",
        "abelardo  1 -3.0\n",
        "cris      2 -1.5\n",
        "juca      3  0.0\n",
        "\n",
        "[3 rows x 2 columns]"
       ]
      }
     ],
     "prompt_number": 66
    },
    {
     "cell_type": "code",
     "collapsed": false,
     "input": [
      "df.dropna(how='all')"
     ],
     "language": "python",
     "metadata": {},
     "outputs": [
      {
       "html": [
        "<div style=\"max-height:1000px;max-width:1500px;overflow:auto;\">\n",
        "<table border=\"1\" class=\"dataframe\">\n",
        "  <thead>\n",
        "    <tr style=\"text-align: right;\">\n",
        "      <th></th>\n",
        "      <th>a</th>\n",
        "      <th>b</th>\n",
        "      <th>c</th>\n",
        "    </tr>\n",
        "  </thead>\n",
        "  <tbody>\n",
        "    <tr>\n",
        "      <th>abelardo</th>\n",
        "      <td> 1</td>\n",
        "      <td>    a</td>\n",
        "      <td>-3.0</td>\n",
        "    </tr>\n",
        "    <tr>\n",
        "      <th>cris</th>\n",
        "      <td> 2</td>\n",
        "      <td>    b</td>\n",
        "      <td>-1.5</td>\n",
        "    </tr>\n",
        "    <tr>\n",
        "      <th>juca</th>\n",
        "      <td> 3</td>\n",
        "      <td> None</td>\n",
        "      <td> 0.0</td>\n",
        "    </tr>\n",
        "  </tbody>\n",
        "</table>\n",
        "<p>3 rows \u00d7 3 columns</p>\n",
        "</div>"
       ],
       "metadata": {},
       "output_type": "pyout",
       "prompt_number": 67,
       "text": [
        "          a     b    c\n",
        "abelardo  1     a -3.0\n",
        "cris      2     b -1.5\n",
        "juca      3  None  0.0\n",
        "\n",
        "[3 rows x 3 columns]"
       ]
      }
     ],
     "prompt_number": 67
    },
    {
     "cell_type": "code",
     "collapsed": false,
     "input": [
      "bkp = df['b'].copy()\n",
      "df['b'] = None\n",
      "df"
     ],
     "language": "python",
     "metadata": {},
     "outputs": [
      {
       "html": [
        "<div style=\"max-height:1000px;max-width:1500px;overflow:auto;\">\n",
        "<table border=\"1\" class=\"dataframe\">\n",
        "  <thead>\n",
        "    <tr style=\"text-align: right;\">\n",
        "      <th></th>\n",
        "      <th>a</th>\n",
        "      <th>b</th>\n",
        "      <th>c</th>\n",
        "    </tr>\n",
        "  </thead>\n",
        "  <tbody>\n",
        "    <tr>\n",
        "      <th>abelardo</th>\n",
        "      <td> 1</td>\n",
        "      <td> None</td>\n",
        "      <td>-3.0</td>\n",
        "    </tr>\n",
        "    <tr>\n",
        "      <th>cris</th>\n",
        "      <td> 2</td>\n",
        "      <td> None</td>\n",
        "      <td>-1.5</td>\n",
        "    </tr>\n",
        "    <tr>\n",
        "      <th>juca</th>\n",
        "      <td> 3</td>\n",
        "      <td> None</td>\n",
        "      <td> 0.0</td>\n",
        "    </tr>\n",
        "  </tbody>\n",
        "</table>\n",
        "<p>3 rows \u00d7 3 columns</p>\n",
        "</div>"
       ],
       "metadata": {},
       "output_type": "pyout",
       "prompt_number": 77,
       "text": [
        "          a     b    c\n",
        "abelardo  1  None -3.0\n",
        "cris      2  None -1.5\n",
        "juca      3  None  0.0\n",
        "\n",
        "[3 rows x 3 columns]"
       ]
      }
     ],
     "prompt_number": 77
    },
    {
     "cell_type": "code",
     "collapsed": false,
     "input": [
      "df.dropna(how='all', axis=1)"
     ],
     "language": "python",
     "metadata": {},
     "outputs": [
      {
       "html": [
        "<div style=\"max-height:1000px;max-width:1500px;overflow:auto;\">\n",
        "<table border=\"1\" class=\"dataframe\">\n",
        "  <thead>\n",
        "    <tr style=\"text-align: right;\">\n",
        "      <th></th>\n",
        "      <th>a</th>\n",
        "      <th>c</th>\n",
        "    </tr>\n",
        "  </thead>\n",
        "  <tbody>\n",
        "    <tr>\n",
        "      <th>abelardo</th>\n",
        "      <td> 1</td>\n",
        "      <td>-3.0</td>\n",
        "    </tr>\n",
        "    <tr>\n",
        "      <th>cris</th>\n",
        "      <td> 2</td>\n",
        "      <td>-1.5</td>\n",
        "    </tr>\n",
        "    <tr>\n",
        "      <th>juca</th>\n",
        "      <td> 3</td>\n",
        "      <td> 0.0</td>\n",
        "    </tr>\n",
        "  </tbody>\n",
        "</table>\n",
        "<p>3 rows \u00d7 2 columns</p>\n",
        "</div>"
       ],
       "metadata": {},
       "output_type": "pyout",
       "prompt_number": 78,
       "text": [
        "          a    c\n",
        "abelardo  1 -3.0\n",
        "cris      2 -1.5\n",
        "juca      3  0.0\n",
        "\n",
        "[3 rows x 2 columns]"
       ]
      }
     ],
     "prompt_number": 78
    },
    {
     "cell_type": "code",
     "collapsed": false,
     "input": [
      "df.b = bkp\n",
      "df"
     ],
     "language": "python",
     "metadata": {},
     "outputs": [
      {
       "html": [
        "<div style=\"max-height:1000px;max-width:1500px;overflow:auto;\">\n",
        "<table border=\"1\" class=\"dataframe\">\n",
        "  <thead>\n",
        "    <tr style=\"text-align: right;\">\n",
        "      <th></th>\n",
        "      <th>a</th>\n",
        "      <th>b</th>\n",
        "      <th>c</th>\n",
        "    </tr>\n",
        "  </thead>\n",
        "  <tbody>\n",
        "    <tr>\n",
        "      <th>abelardo</th>\n",
        "      <td> 1</td>\n",
        "      <td>    a</td>\n",
        "      <td>-3.0</td>\n",
        "    </tr>\n",
        "    <tr>\n",
        "      <th>cris</th>\n",
        "      <td> 2</td>\n",
        "      <td>    b</td>\n",
        "      <td>-1.5</td>\n",
        "    </tr>\n",
        "    <tr>\n",
        "      <th>juca</th>\n",
        "      <td> 3</td>\n",
        "      <td> None</td>\n",
        "      <td> 0.0</td>\n",
        "    </tr>\n",
        "  </tbody>\n",
        "</table>\n",
        "<p>3 rows \u00d7 3 columns</p>\n",
        "</div>"
       ],
       "metadata": {},
       "output_type": "pyout",
       "prompt_number": 79,
       "text": [
        "          a     b    c\n",
        "abelardo  1     a -3.0\n",
        "cris      2     b -1.5\n",
        "juca      3  None  0.0\n",
        "\n",
        "[3 rows x 3 columns]"
       ]
      }
     ],
     "prompt_number": 79
    },
    {
     "cell_type": "code",
     "collapsed": false,
     "input": [
      "df.fillna(value='c')"
     ],
     "language": "python",
     "metadata": {},
     "outputs": [
      {
       "html": [
        "<div style=\"max-height:1000px;max-width:1500px;overflow:auto;\">\n",
        "<table border=\"1\" class=\"dataframe\">\n",
        "  <thead>\n",
        "    <tr style=\"text-align: right;\">\n",
        "      <th></th>\n",
        "      <th>a</th>\n",
        "      <th>b</th>\n",
        "      <th>c</th>\n",
        "    </tr>\n",
        "  </thead>\n",
        "  <tbody>\n",
        "    <tr>\n",
        "      <th>abelardo</th>\n",
        "      <td> 1</td>\n",
        "      <td> a</td>\n",
        "      <td>-3.0</td>\n",
        "    </tr>\n",
        "    <tr>\n",
        "      <th>cris</th>\n",
        "      <td> 2</td>\n",
        "      <td> b</td>\n",
        "      <td>-1.5</td>\n",
        "    </tr>\n",
        "    <tr>\n",
        "      <th>juca</th>\n",
        "      <td> 3</td>\n",
        "      <td> c</td>\n",
        "      <td> 0.0</td>\n",
        "    </tr>\n",
        "  </tbody>\n",
        "</table>\n",
        "<p>3 rows \u00d7 3 columns</p>\n",
        "</div>"
       ],
       "metadata": {},
       "output_type": "pyout",
       "prompt_number": 80,
       "text": [
        "          a  b    c\n",
        "abelardo  1  a -3.0\n",
        "cris      2  b -1.5\n",
        "juca      3  c  0.0\n",
        "\n",
        "[3 rows x 3 columns]"
       ]
      }
     ],
     "prompt_number": 80
    },
    {
     "cell_type": "code",
     "collapsed": false,
     "input": [
      "df"
     ],
     "language": "python",
     "metadata": {},
     "outputs": [
      {
       "html": [
        "<div style=\"max-height:1000px;max-width:1500px;overflow:auto;\">\n",
        "<table border=\"1\" class=\"dataframe\">\n",
        "  <thead>\n",
        "    <tr style=\"text-align: right;\">\n",
        "      <th></th>\n",
        "      <th>a</th>\n",
        "      <th>b</th>\n",
        "      <th>c</th>\n",
        "    </tr>\n",
        "  </thead>\n",
        "  <tbody>\n",
        "    <tr>\n",
        "      <th>abelardo</th>\n",
        "      <td> 1</td>\n",
        "      <td>    a</td>\n",
        "      <td>-3.0</td>\n",
        "    </tr>\n",
        "    <tr>\n",
        "      <th>cris</th>\n",
        "      <td> 2</td>\n",
        "      <td>    b</td>\n",
        "      <td>-1.5</td>\n",
        "    </tr>\n",
        "    <tr>\n",
        "      <th>juca</th>\n",
        "      <td> 3</td>\n",
        "      <td> None</td>\n",
        "      <td> 0.0</td>\n",
        "    </tr>\n",
        "  </tbody>\n",
        "</table>\n",
        "<p>3 rows \u00d7 3 columns</p>\n",
        "</div>"
       ],
       "metadata": {},
       "output_type": "pyout",
       "prompt_number": 81,
       "text": [
        "          a     b    c\n",
        "abelardo  1     a -3.0\n",
        "cris      2     b -1.5\n",
        "juca      3  None  0.0\n",
        "\n",
        "[3 rows x 3 columns]"
       ]
      }
     ],
     "prompt_number": 81
    },
    {
     "cell_type": "code",
     "collapsed": false,
     "input": [
      "df.fillna(value='c', inplace=True)"
     ],
     "language": "python",
     "metadata": {},
     "outputs": [],
     "prompt_number": 82
    },
    {
     "cell_type": "code",
     "collapsed": false,
     "input": [
      "df"
     ],
     "language": "python",
     "metadata": {},
     "outputs": [
      {
       "html": [
        "<div style=\"max-height:1000px;max-width:1500px;overflow:auto;\">\n",
        "<table border=\"1\" class=\"dataframe\">\n",
        "  <thead>\n",
        "    <tr style=\"text-align: right;\">\n",
        "      <th></th>\n",
        "      <th>a</th>\n",
        "      <th>b</th>\n",
        "      <th>c</th>\n",
        "    </tr>\n",
        "  </thead>\n",
        "  <tbody>\n",
        "    <tr>\n",
        "      <th>abelardo</th>\n",
        "      <td> 1</td>\n",
        "      <td> a</td>\n",
        "      <td>-3.0</td>\n",
        "    </tr>\n",
        "    <tr>\n",
        "      <th>cris</th>\n",
        "      <td> 2</td>\n",
        "      <td> b</td>\n",
        "      <td>-1.5</td>\n",
        "    </tr>\n",
        "    <tr>\n",
        "      <th>juca</th>\n",
        "      <td> 3</td>\n",
        "      <td> c</td>\n",
        "      <td> 0.0</td>\n",
        "    </tr>\n",
        "  </tbody>\n",
        "</table>\n",
        "<p>3 rows \u00d7 3 columns</p>\n",
        "</div>"
       ],
       "metadata": {},
       "output_type": "pyout",
       "prompt_number": 83,
       "text": [
        "          a  b    c\n",
        "abelardo  1  a -3.0\n",
        "cris      2  b -1.5\n",
        "juca      3  c  0.0\n",
        "\n",
        "[3 rows x 3 columns]"
       ]
      }
     ],
     "prompt_number": 83
    },
    {
     "cell_type": "code",
     "collapsed": false,
     "input": [
      "df.stack()"
     ],
     "language": "python",
     "metadata": {},
     "outputs": [
      {
       "metadata": {},
       "output_type": "pyout",
       "prompt_number": 84,
       "text": [
        "abelardo  a      1\n",
        "          b      a\n",
        "          c     -3\n",
        "cris      a      2\n",
        "          b      b\n",
        "          c   -1.5\n",
        "juca      a      3\n",
        "          b      c\n",
        "          c      0\n",
        "dtype: object"
       ]
      }
     ],
     "prompt_number": 84
    },
    {
     "cell_type": "code",
     "collapsed": false,
     "input": [
      "df.stack().unstack()"
     ],
     "language": "python",
     "metadata": {},
     "outputs": [
      {
       "html": [
        "<div style=\"max-height:1000px;max-width:1500px;overflow:auto;\">\n",
        "<table border=\"1\" class=\"dataframe\">\n",
        "  <thead>\n",
        "    <tr style=\"text-align: right;\">\n",
        "      <th></th>\n",
        "      <th>a</th>\n",
        "      <th>b</th>\n",
        "      <th>c</th>\n",
        "    </tr>\n",
        "  </thead>\n",
        "  <tbody>\n",
        "    <tr>\n",
        "      <th>abelardo</th>\n",
        "      <td> 1</td>\n",
        "      <td> a</td>\n",
        "      <td>  -3</td>\n",
        "    </tr>\n",
        "    <tr>\n",
        "      <th>cris</th>\n",
        "      <td> 2</td>\n",
        "      <td> b</td>\n",
        "      <td>-1.5</td>\n",
        "    </tr>\n",
        "    <tr>\n",
        "      <th>juca</th>\n",
        "      <td> 3</td>\n",
        "      <td> c</td>\n",
        "      <td>   0</td>\n",
        "    </tr>\n",
        "  </tbody>\n",
        "</table>\n",
        "<p>3 rows \u00d7 3 columns</p>\n",
        "</div>"
       ],
       "metadata": {},
       "output_type": "pyout",
       "prompt_number": 85,
       "text": [
        "          a  b    c\n",
        "abelardo  1  a   -3\n",
        "cris      2  b -1.5\n",
        "juca      3  c    0\n",
        "\n",
        "[3 rows x 3 columns]"
       ]
      }
     ],
     "prompt_number": 85
    },
    {
     "cell_type": "code",
     "collapsed": false,
     "input": [
      "df = pd.DataFrame(np.random.randn(10), index=[list('a'*5)+list('b'*5), np.arange(0, 10, 1)])"
     ],
     "language": "python",
     "metadata": {},
     "outputs": [],
     "prompt_number": 118
    },
    {
     "cell_type": "code",
     "collapsed": false,
     "input": [
      "df"
     ],
     "language": "python",
     "metadata": {},
     "outputs": [
      {
       "html": [
        "<div style=\"max-height:1000px;max-width:1500px;overflow:auto;\">\n",
        "<table border=\"1\" class=\"dataframe\">\n",
        "  <thead>\n",
        "    <tr style=\"text-align: right;\">\n",
        "      <th></th>\n",
        "      <th></th>\n",
        "      <th>0</th>\n",
        "    </tr>\n",
        "  </thead>\n",
        "  <tbody>\n",
        "    <tr>\n",
        "      <th rowspan=\"5\" valign=\"top\">a</th>\n",
        "      <th>0</th>\n",
        "      <td> 2.606437</td>\n",
        "    </tr>\n",
        "    <tr>\n",
        "      <th>1</th>\n",
        "      <td> 1.512813</td>\n",
        "    </tr>\n",
        "    <tr>\n",
        "      <th>2</th>\n",
        "      <td> 0.127864</td>\n",
        "    </tr>\n",
        "    <tr>\n",
        "      <th>3</th>\n",
        "      <td>-1.285210</td>\n",
        "    </tr>\n",
        "    <tr>\n",
        "      <th>4</th>\n",
        "      <td> 0.964874</td>\n",
        "    </tr>\n",
        "    <tr>\n",
        "      <th rowspan=\"5\" valign=\"top\">b</th>\n",
        "      <th>5</th>\n",
        "      <td>-0.598232</td>\n",
        "    </tr>\n",
        "    <tr>\n",
        "      <th>6</th>\n",
        "      <td> 2.114506</td>\n",
        "    </tr>\n",
        "    <tr>\n",
        "      <th>7</th>\n",
        "      <td>-0.160714</td>\n",
        "    </tr>\n",
        "    <tr>\n",
        "      <th>8</th>\n",
        "      <td> 1.182359</td>\n",
        "    </tr>\n",
        "    <tr>\n",
        "      <th>9</th>\n",
        "      <td> 0.610028</td>\n",
        "    </tr>\n",
        "  </tbody>\n",
        "</table>\n",
        "<p>10 rows \u00d7 1 columns</p>\n",
        "</div>"
       ],
       "metadata": {},
       "output_type": "pyout",
       "prompt_number": 119,
       "text": [
        "            0\n",
        "a 0  2.606437\n",
        "  1  1.512813\n",
        "  2  0.127864\n",
        "  3 -1.285210\n",
        "  4  0.964874\n",
        "b 5 -0.598232\n",
        "  6  2.114506\n",
        "  7 -0.160714\n",
        "  8  1.182359\n",
        "  9  0.610028\n",
        "\n",
        "[10 rows x 1 columns]"
       ]
      }
     ],
     "prompt_number": 119
    },
    {
     "cell_type": "code",
     "collapsed": false,
     "input": [
      "df.index"
     ],
     "language": "python",
     "metadata": {},
     "outputs": [
      {
       "metadata": {},
       "output_type": "pyout",
       "prompt_number": 120,
       "text": [
        "MultiIndex(levels=[[u'a', u'b'], [0, 1, 2, 3, 4, 5, 6, 7, 8, 9]],\n",
        "           labels=[[0, 0, 0, 0, 0, 1, 1, 1, 1, 1], [0, 1, 2, 3, 4, 5, 6, 7, 8, 9]])"
       ]
      }
     ],
     "prompt_number": 120
    },
    {
     "cell_type": "code",
     "collapsed": false,
     "input": [
      "df.ix['a']"
     ],
     "language": "python",
     "metadata": {},
     "outputs": [
      {
       "html": [
        "<div style=\"max-height:1000px;max-width:1500px;overflow:auto;\">\n",
        "<table border=\"1\" class=\"dataframe\">\n",
        "  <thead>\n",
        "    <tr style=\"text-align: right;\">\n",
        "      <th></th>\n",
        "      <th>0</th>\n",
        "    </tr>\n",
        "  </thead>\n",
        "  <tbody>\n",
        "    <tr>\n",
        "      <th>0</th>\n",
        "      <td> 2.606437</td>\n",
        "    </tr>\n",
        "    <tr>\n",
        "      <th>1</th>\n",
        "      <td> 1.512813</td>\n",
        "    </tr>\n",
        "    <tr>\n",
        "      <th>2</th>\n",
        "      <td> 0.127864</td>\n",
        "    </tr>\n",
        "    <tr>\n",
        "      <th>3</th>\n",
        "      <td>-1.285210</td>\n",
        "    </tr>\n",
        "    <tr>\n",
        "      <th>4</th>\n",
        "      <td> 0.964874</td>\n",
        "    </tr>\n",
        "  </tbody>\n",
        "</table>\n",
        "<p>5 rows \u00d7 1 columns</p>\n",
        "</div>"
       ],
       "metadata": {},
       "output_type": "pyout",
       "prompt_number": 121,
       "text": [
        "          0\n",
        "0  2.606437\n",
        "1  1.512813\n",
        "2  0.127864\n",
        "3 -1.285210\n",
        "4  0.964874\n",
        "\n",
        "[5 rows x 1 columns]"
       ]
      }
     ],
     "prompt_number": 121
    },
    {
     "cell_type": "code",
     "collapsed": false,
     "input": [
      "df.ix['a':'b']"
     ],
     "language": "python",
     "metadata": {},
     "outputs": [
      {
       "html": [
        "<div style=\"max-height:1000px;max-width:1500px;overflow:auto;\">\n",
        "<table border=\"1\" class=\"dataframe\">\n",
        "  <thead>\n",
        "    <tr style=\"text-align: right;\">\n",
        "      <th></th>\n",
        "      <th></th>\n",
        "      <th>0</th>\n",
        "    </tr>\n",
        "  </thead>\n",
        "  <tbody>\n",
        "    <tr>\n",
        "      <th rowspan=\"5\" valign=\"top\">a</th>\n",
        "      <th>0</th>\n",
        "      <td> 2.606437</td>\n",
        "    </tr>\n",
        "    <tr>\n",
        "      <th>1</th>\n",
        "      <td> 1.512813</td>\n",
        "    </tr>\n",
        "    <tr>\n",
        "      <th>2</th>\n",
        "      <td> 0.127864</td>\n",
        "    </tr>\n",
        "    <tr>\n",
        "      <th>3</th>\n",
        "      <td>-1.285210</td>\n",
        "    </tr>\n",
        "    <tr>\n",
        "      <th>4</th>\n",
        "      <td> 0.964874</td>\n",
        "    </tr>\n",
        "    <tr>\n",
        "      <th rowspan=\"5\" valign=\"top\">b</th>\n",
        "      <th>5</th>\n",
        "      <td>-0.598232</td>\n",
        "    </tr>\n",
        "    <tr>\n",
        "      <th>6</th>\n",
        "      <td> 2.114506</td>\n",
        "    </tr>\n",
        "    <tr>\n",
        "      <th>7</th>\n",
        "      <td>-0.160714</td>\n",
        "    </tr>\n",
        "    <tr>\n",
        "      <th>8</th>\n",
        "      <td> 1.182359</td>\n",
        "    </tr>\n",
        "    <tr>\n",
        "      <th>9</th>\n",
        "      <td> 0.610028</td>\n",
        "    </tr>\n",
        "  </tbody>\n",
        "</table>\n",
        "<p>10 rows \u00d7 1 columns</p>\n",
        "</div>"
       ],
       "metadata": {},
       "output_type": "pyout",
       "prompt_number": 122,
       "text": [
        "            0\n",
        "a 0  2.606437\n",
        "  1  1.512813\n",
        "  2  0.127864\n",
        "  3 -1.285210\n",
        "  4  0.964874\n",
        "b 5 -0.598232\n",
        "  6  2.114506\n",
        "  7 -0.160714\n",
        "  8  1.182359\n",
        "  9  0.610028\n",
        "\n",
        "[10 rows x 1 columns]"
       ]
      }
     ],
     "prompt_number": 122
    },
    {
     "cell_type": "code",
     "collapsed": false,
     "input": [
      "df.unstack()"
     ],
     "language": "python",
     "metadata": {},
     "outputs": [
      {
       "html": [
        "<div style=\"max-height:1000px;max-width:1500px;overflow:auto;\">\n",
        "<table border=\"1\" class=\"dataframe\">\n",
        "  <thead>\n",
        "    <tr>\n",
        "      <th></th>\n",
        "      <th colspan=\"10\" halign=\"left\">0</th>\n",
        "    </tr>\n",
        "    <tr>\n",
        "      <th></th>\n",
        "      <th>0</th>\n",
        "      <th>1</th>\n",
        "      <th>2</th>\n",
        "      <th>3</th>\n",
        "      <th>4</th>\n",
        "      <th>5</th>\n",
        "      <th>6</th>\n",
        "      <th>7</th>\n",
        "      <th>8</th>\n",
        "      <th>9</th>\n",
        "    </tr>\n",
        "  </thead>\n",
        "  <tbody>\n",
        "    <tr>\n",
        "      <th>a</th>\n",
        "      <td> 2.606437</td>\n",
        "      <td> 1.512813</td>\n",
        "      <td> 0.127864</td>\n",
        "      <td>-1.28521</td>\n",
        "      <td> 0.964874</td>\n",
        "      <td>      NaN</td>\n",
        "      <td>      NaN</td>\n",
        "      <td>      NaN</td>\n",
        "      <td>      NaN</td>\n",
        "      <td>      NaN</td>\n",
        "    </tr>\n",
        "    <tr>\n",
        "      <th>b</th>\n",
        "      <td>      NaN</td>\n",
        "      <td>      NaN</td>\n",
        "      <td>      NaN</td>\n",
        "      <td>     NaN</td>\n",
        "      <td>      NaN</td>\n",
        "      <td>-0.598232</td>\n",
        "      <td> 2.114506</td>\n",
        "      <td>-0.160714</td>\n",
        "      <td> 1.182359</td>\n",
        "      <td> 0.610028</td>\n",
        "    </tr>\n",
        "  </tbody>\n",
        "</table>\n",
        "<p>2 rows \u00d7 10 columns</p>\n",
        "</div>"
       ],
       "metadata": {},
       "output_type": "pyout",
       "prompt_number": 123,
       "text": [
        "          0                                                             \\\n",
        "          0         1         2        3         4         5         6   \n",
        "a  2.606437  1.512813  0.127864 -1.28521  0.964874       NaN       NaN   \n",
        "b       NaN       NaN       NaN      NaN       NaN -0.598232  2.114506   \n",
        "\n",
        "                                 \n",
        "          7         8         9  \n",
        "a       NaN       NaN       NaN  \n",
        "b -0.160714  1.182359  0.610028  \n",
        "\n",
        "[2 rows x 10 columns]"
       ]
      }
     ],
     "prompt_number": 123
    }
   ],
   "metadata": {}
  }
 ]
}